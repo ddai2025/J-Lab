{
 "cells": [
  {
   "cell_type": "code",
   "execution_count": 15,
   "metadata": {},
   "outputs": [],
   "source": [
    "import numpy as np\n",
    "from numpy import *\n",
    "import pandas as pd\n",
    "import matplotlib.pyplot as plt\n",
    "from scipy.stats import norm\n",
    "\n",
    "\n",
    "# Load experiment data, drop blank columns, and filter outliers.\n",
    "experiments = pd.read_csv(\"pendulumData.csv\")\n",
    "g_I = experiments[\"g (m/s2)\"].to_numpy()\n",
    "g_I = g_I[~isnan(g_I)]\n",
    "g_I = g_I[g_I < 100]"
   ]
  },
  {
   "cell_type": "code",
   "execution_count": null,
   "metadata": {},
   "outputs": [],
   "source": [
    "N_bins = 200\n",
    "counts, edges = histogram(g_I, N_bins)\n",
    "centers = (edges[:-1] + edges[1:]) / 2\n",
    "width = centers[1] - centers[0]"
   ]
  },
  {
   "cell_type": "code",
   "execution_count": 42,
   "metadata": {},
   "outputs": [
    {
     "data": {
      "text/plain": [
       "<ErrorbarContainer object of 3 artists>"
      ]
     },
     "execution_count": 42,
     "metadata": {},
     "output_type": "execute_result"
    },
    {
     "data": {
      "image/png": "[encoded data removed]",
      "text/plain": [
       "<Figure size 640x480 with 1 Axes>"
      ]
     },
     "metadata": {},
     "output_type": "display_data"
    }
   ],
   "source": [
    "plt.errorbar(centers, counts, yerr=np.sqrt(counts), fmt='o', c=\"k\", markersize=3, capsize=2, elinewidth=1, zorder=10,\n",
    "             label=\"Exp. Data\")"
   ]
  },
  {
   "cell_type": "code",
   "execution_count": null,
   "metadata": {},
   "outputs": [],
   "source": [
    "experiments.drop(columns=\"g (m/s2)\", inplace=True)\n",
    "experiments = experiments[experiments[\"g (m/s2)\"] < 20]\n",
    "experiments.dropna(inplace=True)\n",
    "gs = experiments[\"g (m/s2)\"].to_numpy()\n",
    "print(gs)\n",
    "\n",
    "# Calculate statistics.\n",
    "N = len(gs)\n",
    "mu, sigma = mean(gs), std(gs, ddof=1)\n",
    "sigma_mu = sigma / sqrt(N)\n",
    "\n",
    "# Calculate histogram.\n",
    "counts, edges = histogram(gs, bins=50)\n",
    "centers = (edges[1:] + edges[:-1]) / 2\n",
    "width = edges[1] - edges[0]"
   ]
  },
  {
   "cell_type": "code",
   "execution_count": 4,
   "metadata": {},
   "outputs": [
    {
     "data": {
      "text/plain": [
       "0        9.830\n",
       "1        9.060\n",
       "2        9.790\n",
       "3        9.882\n",
       "4      978.000\n",
       "        ...   \n",
       "404      9.600\n",
       "405      9.635\n",
       "406     12.820\n",
       "407     10.400\n",
       "408      9.100\n",
       "Name: g (m/s2), Length: 409, dtype: float64"
      ]
     },
     "execution_count": 4,
     "metadata": {},
     "output_type": "execute_result"
    }
   ],
   "source": [
    "experiments"
   ]
  },
  {
   "cell_type": "code",
   "execution_count": null,
   "metadata": {},
   "outputs": [],
   "source": []
  }
 ],
 "metadata": {
  "kernelspec": {
   "display_name": "base",
   "language": "python",
   "name": "python3"
  },
  "language_info": {
   "codemirror_mode": {
    "name": "ipython",
    "version": 3
   },
   "file_extension": ".py",
   "mimetype": "text/x-python",
   "name": "python",
   "nbconvert_exporter": "python",
   "pygments_lexer": "ipython3",
   "version": "3.12.7"
  }
 },
 "nbformat": 4,
 "nbformat_minor": 2
}
